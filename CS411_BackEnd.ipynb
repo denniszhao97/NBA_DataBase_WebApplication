{
 "cells": [
  {
   "cell_type": "code",
   "execution_count": 1,
   "metadata": {},
   "outputs": [],
   "source": [
    "import numpy as np\n",
    "import pandas as pd\n",
    "import pymysql"
   ]
  },
  {
   "cell_type": "code",
   "execution_count": 9,
   "metadata": {},
   "outputs": [],
   "source": [
    "#User can insert their comments and ratings into our database, the avgrating in Player_Bio will also update\n",
    "def user_comments(PlayerName, UserName, ratings, Comments):\n",
    "    #insert new entry in User_ratings\n",
    "    conn = pymysql.connect(\n",
    "    port=int(3306),\n",
    "    user=\"root\",\n",
    "    passwd= \"12345678\",\n",
    "    database = \"NBA_DB\")\n",
    "    #Get correct ratingID\n",
    "    my_cursor = conn.cursor()\n",
    "    my_cursor.execute(\"SELECT MAX(ratingID) FROM User_ratings\")\n",
    "    my_result = my_cursor.fetchall()\n",
    "    new_ID = int(my_result[0][0]) + 1\n",
    "    \n",
    "    my_cursor = conn.cursor()\n",
    "    sqlFormula = \"INSERT INTO User_ratings (ratings, PlayerName, UserName, UserComments, ratingID) VALUES (%s, %s, %s, %s, %s)\"\n",
    "    records = (ratings, PlayerName, UserName, Comments, new_ID)\n",
    "    my_cursor.execute(sqlFormula, records)\n",
    "    conn.commit()\n",
    "    \n",
    "    #update in Player_Bio\n",
    "    myplayer = PlayerName\n",
    "    formula_1 = \"SELECT Avg(ratings) as AvgRating FROM User_ratings WHERE PlayerName = %s\"\n",
    "    my_cursor.execute(formula_1, myplayer)\n",
    "    my_result = my_cursor.fetchall()\n",
    "    new_avgRatings = float(my_result[0][0])\n",
    "    my_cursor = conn.cursor()\n",
    "    formula_2 = \"UPDATE Player_Bio SET AvgRating = %s WHERE PlayerName = %s\"\n",
    "    my_cursor.execute(formula_2, (new_avgRatings, myplayer))\n",
    "    conn.commit()\n",
    "    conn.close()\n",
    "    print(\"Successfully commented, your commentID is %d.\" % new_ID)\n",
    "\n",
    "#query Player_Bio table by PlayerName\n",
    "def return_playerBio(PlayerName):\n",
    "    conn = pymysql.connect(\n",
    "    port=int(3306),\n",
    "    user=\"root\",\n",
    "    passwd= \"12345678\",\n",
    "    database = \"NBA_DB\")\n",
    "    my_cursor = conn.cursor()\n",
    "    formula_1 = \"SELECT * FROM Player_Bio WHERE PlayerName = '%s'\"\n",
    "    sqlformula = formula_1 % PlayerName\n",
    "    df = pd.read_sql(sqlformula, conn)\n",
    "    print(df.to_string())\n",
    "    conn.close()\n",
    "\n",
    "#delete user rating and comments, then update average rating\n",
    "def delete_ratings(deleteID):\n",
    "    conn = pymysql.connect(\n",
    "    port=int(3306),\n",
    "    user=\"root\",\n",
    "    passwd= \"12345678\",\n",
    "    database = \"NBA_DB\")\n",
    "    \n",
    "    #get playerName before deleting\n",
    "    my_cursor = conn.cursor()\n",
    "    formula_1 = \"SELECT PlayerName FROM User_ratings WHERE ratingID = %s\"\n",
    "    my_cursor.execute(formula_1, deleteID)\n",
    "    my_result = my_cursor.fetchall()\n",
    "    Player_name = my_result[0][0]\n",
    "    \n",
    "    #delete record\n",
    "    my_cursor = conn.cursor()\n",
    "    sqlformula = \"DELETE FROM User_ratings WHERE ratingID = %s\"\n",
    "    my_cursor.execute(sqlformula, deleteID)\n",
    "    \n",
    "    #update avgrating of the player in Player_Bio\n",
    "    myplayer = Player_name\n",
    "    formula_1 = \"SELECT Avg(ratings) as AvgRating FROM User_ratings WHERE PlayerName = %s\"\n",
    "    my_cursor.execute(formula_1, myplayer)\n",
    "    my_result = my_cursor.fetchall()\n",
    "    new_avgRatings = 0\n",
    "    if my_result[0][0]:\n",
    "        new_avgRatings = float(my_result[0][0])\n",
    "    my_cursor = conn.cursor()\n",
    "    formula_2 = \"UPDATE Player_Bio SET AvgRating = %s WHERE PlayerName = %s\"\n",
    "    my_cursor.execute(formula_2, (new_avgRatings, myplayer))\n",
    "    conn.commit()\n",
    "    print(\"Successfully deleted, the average rating of %s has been adjusted.\" % myplayer)\n",
    "    conn.close()\n",
    "    \n",
    "    "
   ]
  },
  {
   "cell_type": "code",
   "execution_count": 53,
   "metadata": {},
   "outputs": [],
   "source": [
    "# query player stats by playerName and Month\n",
    "def query_stats_by_month(PlayerName, Month):\n",
    "    conn = pymysql.connect(\n",
    "    port=int(3306),\n",
    "    user=\"root\",\n",
    "    passwd= \"12345678\",\n",
    "    database = \"NBA_DB\")\n",
    "    \n",
    "    Months = {}\n",
    "    Months[\"Jan\"] = \"01\"\n",
    "    Months[\"Feb\"] = \"02\"\n",
    "    Months[\"Mar\"] = \"03\"\n",
    "    Months[\"Apr\"] = \"04\"\n",
    "    Months[\"May\"] = \"05\"\n",
    "    Months[\"Jun\"] = \"06\"\n",
    "    Months[\"Jul\"] = \"07\"\n",
    "    Months[\"Aug\"] = \"08\"\n",
    "    Months[\"Sep\"] = \"09\"\n",
    "    Months[\"Oct\"] = \"10\"\n",
    "    Months[\"Nov\"] = \"11\"\n",
    "    Months[\"Dec\"] = \"12\"\n",
    "\n",
    "    my_cursor = conn.cursor()\n",
    "    my_month = Months[Month]\n",
    "    formula_1 = \"SELECT PlayerName, Avg(Points) as Points, Avg(Rebounds) as Rebounds, Avg(Assists) as Assists, Avg(Steals) as Steals, count(*) as Game_Played FROM Game_Stats WHERE PlayerName = '%s' and CAST(Date AS CHAR) LIKE '____%s__'\"\n",
    "    sqlformula = formula_1 % (PlayerName, my_month)\n",
    "    df = pd.read_sql(sqlformula, conn)\n",
    "    print(df.to_string())\n",
    "    conn.close()\n",
    "\n",
    "def query_stats_by_opponent(PlayerName, Opponent):\n",
    "    conn = pymysql.connect(\n",
    "    port=int(3306),\n",
    "    user=\"root\",\n",
    "    passwd= \"12345678\",\n",
    "    database = \"NBA_DB\")\n",
    "\n",
    "    my_cursor = conn.cursor()\n",
    "    formula_1 = \"SELECT PlayerName, OpponentTeam, Avg(Points) as Points, Avg(Rebounds) as Rebounds, Avg(Assists) as Assists, Avg(Steals) as Steals, count(*) as Game_Played FROM Game_Stats WHERE PlayerName = '%s' and OpponentTeam = '%s'\"\n",
    "    sqlformula = formula_1 % (PlayerName, Opponent)\n",
    "    df = pd.read_sql(sqlformula, conn)\n",
    "    print(df.to_string())\n",
    "    conn.close()\n",
    "    \n",
    "def query_all_results_groupby_opponent(PlayerName):\n",
    "    conn = pymysql.connect(\n",
    "    port=int(3306),\n",
    "    user=\"root\",\n",
    "    passwd= \"12345678\",\n",
    "    database = \"NBA_DB\")\n",
    "\n",
    "    my_cursor = conn.cursor()\n",
    "    formula_1 = \"SELECT PlayerName, OpponentTeam, Avg(Points) as Points, Avg(Rebounds) as Rebounds, Avg(Assists) as Assists, Avg(Steals) as Steals, count(*) as Game_Played FROM Game_Stats WHERE PlayerName = '%s' Group By OpponentTeam\"\n",
    "    sqlformula = formula_1 % (PlayerName)\n",
    "    df = pd.read_sql(sqlformula, conn)\n",
    "    print(df.to_string())\n",
    "    conn.close()\n"
   ]
  },
  {
   "cell_type": "markdown",
   "metadata": {},
   "source": [
    "# Who is the best clutch free throw shooter in team?"
   ]
  },
  {
   "cell_type": "code",
   "execution_count": 55,
   "metadata": {},
   "outputs": [],
   "source": [
    "# More complicated query functions\n",
    "# Find best free throw shooter, who has played more than 10 min in clutch moments\n",
    "# for selected team：\n",
    "def find_best_clutch_FT_Shooter(TeamName):\n",
    "    conn = pymysql.connect(\n",
    "    port=int(3306),\n",
    "    user=\"root\",\n",
    "    passwd= \"12345678\",\n",
    "    database = \"NBA_DB\")\n",
    "    my_cursor = conn.cursor()\n",
    "\n",
    "    my_cursor.execute('''Create view Jointed_Table as \n",
    "    select * from Player_Clutch_Stats natural join (select PlayerName, TeamName from Player_Bio) as short_bio;''')\n",
    "\n",
    "    my_cursor.execute('''Create view BestFT_Shooters as\n",
    "    Select PlayerName, Free_Throw_P, J.TeamName, J.Minutes_Played from Jointed_Table J, \n",
    "    (Select max(Free_Throw_P) as maxFT, TeamName from Jointed_Table where Minutes_Played > 10 group by TeamName) as bestFT\n",
    "    where J.Free_Throw_P = bestFT.maxFT and J.TeamName = bestFT.TeamName and J.Minutes_Played > 10;''')\n",
    "\n",
    "    formula_1 = \"select PlayerName, Free_Throw_P, TeamName, Minutes_Played from BestFT_Shooters where TeamName = '%s';\"\n",
    "    sqlformula = formula_1 % TeamName\n",
    "    df = pd.read_sql(sqlformula, conn)\n",
    "    print(df.to_string())\n",
    "    my_cursor.execute(\"Drop view Jointed_Table;\")\n",
    "    my_cursor.execute(\"Drop view BestFT_Shooters;\")\n",
    "    conn.close()"
   ]
  },
  {
   "cell_type": "markdown",
   "metadata": {},
   "source": [
    "# Which team likes 3 pointer most?"
   ]
  },
  {
   "cell_type": "code",
   "execution_count": 123,
   "metadata": {},
   "outputs": [],
   "source": [
    "def find_team_3PTA_ranking(TeamName):\n",
    "    conn = pymysql.connect(\n",
    "    port=int(3306),\n",
    "    user=\"root\",\n",
    "    passwd= \"12345678\",\n",
    "    database = \"NBA_DB\")\n",
    "    \n",
    "    nbaTeams = {}\n",
    "    nbaTeams['Atlanta Hawks'] = 'ATL'\n",
    "    nbaTeams['Brooklyn Nets'] = 'BKN'\n",
    "    nbaTeams['Boston Celtics'] = 'BOS'\n",
    "    nbaTeams['Charlotte Hornets'] = 'CHA'\n",
    "    nbaTeams['Chicago Bulls'] = 'CHI'\n",
    "    nbaTeams['Cleveland Cavaliers'] = 'CLE'\n",
    "    nbaTeams['Dallas Mavericks'] = 'DAL'\n",
    "    nbaTeams['Denver Nuggets'] = 'DEN'\n",
    "    nbaTeams['Detroit Pistons'] = 'DET'\n",
    "    nbaTeams['Golden State Warriors'] = 'GSW'\n",
    "    nbaTeams['Houston Rockets'] = 'HOU'\n",
    "    nbaTeams['Indiana Pacers'] = 'IND'\n",
    "    nbaTeams['LA Clippers'] = 'LAC'\n",
    "    nbaTeams['Los Angeles Lakers'] = 'LAL'\n",
    "    nbaTeams['Memphis Grizzlies'] = 'MEM'\n",
    "    nbaTeams['Miami Heat'] = 'MIA'\n",
    "    nbaTeams['Milwaukee Bucks'] = 'MIL'\n",
    "    nbaTeams['Minnesota Timberwolves'] = 'MIN'\n",
    "    nbaTeams['New Orleans Pelicans'] = 'NOP'\n",
    "    nbaTeams['New York Knicks'] = 'NYK'\n",
    "    nbaTeams['Oklahoma City Thunder'] = 'OKC'\n",
    "    nbaTeams['Orlando Magic'] = 'ORL'\n",
    "    nbaTeams['Philadelphia 76ers'] = 'PHI'\n",
    "    nbaTeams['Phoenix Suns'] = 'PHX'\n",
    "    nbaTeams['Portland Trail Blazers'] = 'POR'\n",
    "    nbaTeams['Sacramento Kings'] = 'SAC'\n",
    "    nbaTeams['San Antonio Spurs'] = 'SAS'\n",
    "    nbaTeams['Toronto Raptors'] = 'TOR'\n",
    "    nbaTeams['Utah Jazz'] = 'UTA'\n",
    "    nbaTeams['Washington Wizards'] = 'WAS'\n",
    "    nbaTeams_2 = {v: k for k, v in nbaTeams.items()}\n",
    "    \n",
    "    my_cursor = conn.cursor()\n",
    "    my_cursor.execute('''Create view Jointed_Table as \n",
    "    select * from Shot_Selection natural join (select PlayerName, TeamName from Player_Bio) as short_bio;''')\n",
    "\n",
    "    my_cursor.execute('''Create view Team_Shooting as\n",
    "    select TeamName, sum(3FGA) as Total_3pt_attempt, sum(2FGA) as Total_2pt_attempt from Jointed_Table group by TeamName;''')\n",
    "\n",
    "    \n",
    "    sqlformula = \"SELECT Total_3pt_attempt FROM Team_Shooting where TeamName = %s\"\n",
    "    my_cursor.execute(sqlformula, TeamName)\n",
    "    my_result = my_cursor.fetchall()\n",
    "    Three_ptA = int(my_result[0][0])\n",
    "    \n",
    "    sqlformula = '''select count(*)+1 from Team_Shooting \n",
    "    where Total_3pt_attempt > %s;'''\n",
    "\n",
    "    my_cursor.execute(sqlformula, Three_ptA)\n",
    "    my_result = my_cursor.fetchall()\n",
    "    ranking = my_result[0][0]\n",
    "    \n",
    "    print(\"The team %s attempted %s three pointers during regular season last year, which ranked No.%d in the league.\" % (nbaTeams_2[TeamName], Three_ptA, ranking))\n",
    "    \n",
    "    my_cursor.execute(\"drop view Jointed_Table;\")\n",
    "    my_cursor.execute(\"drop view Team_Shooting\")\n",
    "    conn.close()"
   ]
  },
  {
   "cell_type": "code",
   "execution_count": 30,
   "metadata": {},
   "outputs": [
    {
     "name": "stdout",
     "output_type": "stream",
     "text": [
      "Successfully commented, your commentID is 3.\n"
     ]
    }
   ],
   "source": [
    "user_comments(\"James Harden\", \"Xiao Ming\", 3, \"I hate seeing him scoring 40 while is 2/16\")"
   ]
  },
  {
   "cell_type": "code",
   "execution_count": 22,
   "metadata": {},
   "outputs": [
    {
     "name": "stdout",
     "output_type": "stream",
     "text": [
      "     PlayerName TeamName  AvgPoints  AvgRebounds  AvgAssists  AvgSteals  AvgRating\n",
      "0  James Harden      HOU       36.1          6.6         7.5        2.0        3.0\n"
     ]
    }
   ],
   "source": [
    "return_playerBio(\"James Harden\")"
   ]
  },
  {
   "cell_type": "code",
   "execution_count": 31,
   "metadata": {},
   "outputs": [
    {
     "name": "stdout",
     "output_type": "stream",
     "text": [
      "Successfully deleted, the average rating of James Harden has been adjusted.\n"
     ]
    }
   ],
   "source": [
    "delete_ratings(3)"
   ]
  },
  {
   "cell_type": "code",
   "execution_count": 24,
   "metadata": {},
   "outputs": [
    {
     "name": "stdout",
     "output_type": "stream",
     "text": [
      "     PlayerName TeamName  AvgPoints  AvgRebounds  AvgAssists  AvgSteals  AvgRating\n",
      "0  James Harden      HOU       36.1          6.6         7.5        2.0        0.0\n"
     ]
    }
   ],
   "source": [
    "return_playerBio(\"James Harden\")"
   ]
  },
  {
   "cell_type": "code",
   "execution_count": 25,
   "metadata": {},
   "outputs": [
    {
     "name": "stdout",
     "output_type": "stream",
     "text": [
      "     PlayerName  Points  Rebounds  Assists  Steals  Game_Played\n",
      "0  LeBron James  25.625     9.625   10.625   2.125            8\n"
     ]
    }
   ],
   "source": [
    "query_stats_by_month(\"LeBron James\", \"Feb\")"
   ]
  },
  {
   "cell_type": "code",
   "execution_count": 28,
   "metadata": {},
   "outputs": [
    {
     "name": "stdout",
     "output_type": "stream",
     "text": [
      "     PlayerName OpponentTeam   Points  Rebounds  Assists  Steals  Game_Played\n",
      "0  LeBron James          POR  32.6667       9.0   7.3333  0.6667            3\n"
     ]
    }
   ],
   "source": [
    "query_stats_by_opponent(\"LeBron James\", \"POR\")"
   ]
  },
  {
   "cell_type": "code",
   "execution_count": 116,
   "metadata": {
    "scrolled": true
   },
   "outputs": [
    {
     "name": "stdout",
     "output_type": "stream",
     "text": [
      "    PlayerName OpponentTeam   Points  Rebounds  Assists  Steals  Game_Played\n",
      "0   Jeremy Lin          MIN   7.5000    3.5000   4.5000  1.5000            2\n",
      "1   Jeremy Lin          CHA   8.8000    1.6000   2.2000  0.8000            5\n",
      "2   Jeremy Lin          BKN   8.0000    2.0000   1.6667  1.0000            3\n",
      "3   Jeremy Lin          ORL   9.5000    2.0000   2.7500  0.0000            4\n",
      "4   Jeremy Lin          CHI   8.0000    3.0000   3.0000  0.5000            4\n",
      "5   Jeremy Lin          NYK  12.0000    3.8000   3.4000  0.4000            5\n",
      "6   Jeremy Lin          OKC   5.5000    2.0000   0.5000  0.5000            2\n",
      "7   Jeremy Lin          DET   8.2500    2.2500   3.2500  1.0000            4\n",
      "8   Jeremy Lin          LAL   7.5000    4.0000   1.5000  0.0000            2\n",
      "9   Jeremy Lin          CLE   6.7500    2.2500   3.2500  0.2500            4\n",
      "10  Jeremy Lin          MIA   9.7500    2.2500   3.0000  1.0000            4\n",
      "11  Jeremy Lin          NOP  14.0000    1.0000   3.0000  0.0000            1\n",
      "12  Jeremy Lin          HOU   2.0000    2.0000   2.0000  0.0000            1\n",
      "13  Jeremy Lin          POR   9.0000    1.0000   3.5000  0.0000            2\n",
      "14  Jeremy Lin          BOS  10.2500    4.0000   5.7500  1.2500            4\n",
      "15  Jeremy Lin          SAS  11.0000    3.0000   2.0000  1.0000            1\n",
      "16  Jeremy Lin          WAS   9.0000    3.0000   3.8000  1.0000            5\n",
      "17  Jeremy Lin          TOR  16.6667    2.0000   4.3333  0.6667            3\n",
      "18  Jeremy Lin          PHX   8.0000    2.0000   1.0000  0.0000            1\n",
      "19  Jeremy Lin          UTA   5.0000    1.0000   0.0000  1.0000            1\n",
      "20  Jeremy Lin          SAC  17.0000    1.5000   3.0000  0.5000            2\n",
      "21  Jeremy Lin          LAC  10.0000    1.0000   2.5000  0.0000            2\n",
      "22  Jeremy Lin          MIL   9.5000    1.5000   5.5000  0.5000            2\n",
      "23  Jeremy Lin          PHI   7.5000    1.0000   1.5000  0.0000            2\n",
      "24  Jeremy Lin          IND  11.6667    2.3333   3.6667  1.3333            3\n",
      "25  Jeremy Lin          GSW  12.0000    4.0000   4.5000  1.5000            2\n",
      "26  Jeremy Lin          DEN  16.0000    5.0000   5.0000  0.0000            1\n",
      "27  Jeremy Lin          DAL   3.0000    0.0000   2.0000  0.0000            1\n",
      "28  Jeremy Lin          MEM   9.0000    2.0000   2.0000  0.0000            1\n"
     ]
    }
   ],
   "source": [
    "query_all_results_groupby_opponent(\"Jeremy Lin\")"
   ]
  },
  {
   "cell_type": "code",
   "execution_count": 56,
   "metadata": {},
   "outputs": [
    {
     "name": "stdout",
     "output_type": "stream",
     "text": [
      "      PlayerName  Free_Throw_P TeamName  Minutes_Played\n",
      "0  Fred VanVleet         100.0      TOR              77\n",
      "1     Jeremy Lin         100.0      TOR              23\n"
     ]
    }
   ],
   "source": [
    "find_best_clutch_FT_Shooter(\"TOR\")"
   ]
  },
  {
   "cell_type": "code",
   "execution_count": 124,
   "metadata": {},
   "outputs": [
    {
     "name": "stdout",
     "output_type": "stream",
     "text": [
      "The team Golden State Warriors attempted 2791 three pointers during regular season last year, which ranked No.10 in the league.\n"
     ]
    }
   ],
   "source": [
    "find_team_3PTA_ranking(\"GSW\")"
   ]
  },
  {
   "cell_type": "code",
   "execution_count": null,
   "metadata": {},
   "outputs": [],
   "source": []
  }
 ],
 "metadata": {
  "kernelspec": {
   "display_name": "Python 3",
   "language": "python",
   "name": "python3"
  },
  "language_info": {
   "codemirror_mode": {
    "name": "ipython",
    "version": 3
   },
   "file_extension": ".py",
   "mimetype": "text/x-python",
   "name": "python",
   "nbconvert_exporter": "python",
   "pygments_lexer": "ipython3",
   "version": "3.6.7"
  }
 },
 "nbformat": 4,
 "nbformat_minor": 2
}
