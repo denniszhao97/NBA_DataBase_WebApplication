{
 "cells": [
  {
   "cell_type": "code",
   "execution_count": 1,
   "metadata": {},
   "outputs": [],
   "source": [
    "import numpy as np\n",
    "import pandas as pd\n",
    "import pymysql"
   ]
  },
  {
   "cell_type": "code",
   "execution_count": 2,
   "metadata": {},
   "outputs": [],
   "source": [
    "#User can insert their comments and ratings into our database, the avgrating in Player_Bio will also update\n",
    "def user_comments(PlayerName, UserName, ratings, Comments):\n",
    "    #insert new entry in User_ratings\n",
    "    conn = pymysql.connect(\n",
    "    port=int(3306),\n",
    "    user=\"root\",\n",
    "    passwd= \"12345678\",\n",
    "    database = \"NBA_DB\")\n",
    "    #Get correct ratingID\n",
    "    my_cursor = conn.cursor()\n",
    "    my_cursor.execute(\"SELECT MAX(ratingID) FROM User_ratings\")\n",
    "    my_result = my_cursor.fetchall()\n",
    "    new_ID = int(my_result[0][0]) + 1\n",
    "    \n",
    "    my_cursor = conn.cursor()\n",
    "    sqlFormula = \"INSERT INTO User_ratings (ratings, PlayerName, UserName, UserComments, ratingID) VALUES (%s, %s, %s, %s, %s)\"\n",
    "    records = (ratings, PlayerName, UserName, Comments, new_ID)\n",
    "    my_cursor.execute(sqlFormula, records)\n",
    "    conn.commit()\n",
    "    \n",
    "    #update in Player_Bio\n",
    "    myplayer = PlayerName\n",
    "    formula_1 = \"SELECT Avg(ratings) as AvgRating FROM User_ratings WHERE PlayerName = %s\"\n",
    "    my_cursor.execute(formula_1, myplayer)\n",
    "    my_result = my_cursor.fetchall()\n",
    "    new_avgRatings = float(my_result[0][0])\n",
    "    my_cursor = conn.cursor()\n",
    "    formula_2 = \"UPDATE Player_Bio SET AvgRating = %s WHERE PlayerName = %s\"\n",
    "    my_cursor.execute(formula_2, (new_avgRatings, myplayer))\n",
    "    conn.commit()\n",
    "    conn.close()\n",
    "    print(\"Successfully commented, your commentID is %d.\" % new_ID)\n",
    "\n",
    "#query Player_Bio table by PlayerName\n",
    "def return_playerBio(PlayerName):\n",
    "    conn = pymysql.connect(\n",
    "    port=int(3306),\n",
    "    user=\"root\",\n",
    "    passwd= \"12345678\",\n",
    "    database = \"NBA_DB\")\n",
    "    my_cursor = conn.cursor()\n",
    "    formula_1 = \"SELECT * FROM Player_Bio WHERE PlayerName = '%s'\"\n",
    "    sqlformula = formula_1 % PlayerName\n",
    "    df = pd.read_sql(sqlformula, conn)\n",
    "    print(df.to_string())\n",
    "    conn.close()\n",
    "\n",
    "#delete user rating and comments, then update average rating\n",
    "def delete_ratings(deleteID):\n",
    "    conn = pymysql.connect(\n",
    "    port=int(3306),\n",
    "    user=\"root\",\n",
    "    passwd= \"12345678\",\n",
    "    database = \"NBA_DB\")\n",
    "    \n",
    "    #get playerName before deleting\n",
    "    my_cursor = conn.cursor()\n",
    "    formula_1 = \"SELECT PlayerName FROM User_ratings WHERE ratingID = %s\"\n",
    "    my_cursor.execute(formula_1, deleteID)\n",
    "    my_result = my_cursor.fetchall()\n",
    "    Player_name = my_result[0][0]\n",
    "    \n",
    "    #delete record\n",
    "    my_cursor = conn.cursor()\n",
    "    sqlformula = \"DELETE FROM User_ratings WHERE ratingID = %s\"\n",
    "    my_cursor.execute(sqlformula, deleteID)\n",
    "    \n",
    "    #update avgrating of the player in Player_Bio\n",
    "    myplayer = Player_name\n",
    "    formula_1 = \"SELECT Avg(ratings) as AvgRating FROM User_ratings WHERE PlayerName = %s\"\n",
    "    my_cursor.execute(formula_1, myplayer)\n",
    "    my_result = my_cursor.fetchall()\n",
    "    new_avgRatings = float(my_result[0][0])\n",
    "    my_cursor = conn.cursor()\n",
    "    formula_2 = \"UPDATE Player_Bio SET AvgRating = %s WHERE PlayerName = %s\"\n",
    "    my_cursor.execute(formula_2, (new_avgRatings, myplayer))\n",
    "    conn.commit()\n",
    "    print(\"Successfully deleted, the average rating of %s has been adjusted.\" % myplayer)\n",
    "    conn.close()\n",
    "    \n",
    "    "
   ]
  },
  {
   "cell_type": "code",
   "execution_count": 3,
   "metadata": {},
   "outputs": [],
   "source": [
    "# query player stats by playerName and Month\n",
    "def query_stats_by_month(PlayerName, Month):\n",
    "    conn = pymysql.connect(\n",
    "    port=int(3306),\n",
    "    user=\"root\",\n",
    "    passwd= \"12345678\",\n",
    "    database = \"NBA_DB\")\n",
    "    \n",
    "    Months = {}\n",
    "    Months[\"Jan\"] = \"01\"\n",
    "    Months[\"Feb\"] = \"02\"\n",
    "    Months[\"Mar\"] = \"03\"\n",
    "    Months[\"Apr\"] = \"04\"\n",
    "    Months[\"May\"] = \"05\"\n",
    "    Months[\"Jun\"] = \"06\"\n",
    "    Months[\"Jul\"] = \"07\"\n",
    "    Months[\"Aug\"] = \"08\"\n",
    "    Months[\"Sep\"] = \"09\"\n",
    "    Months[\"Oct\"] = \"10\"\n",
    "    Months[\"Nov\"] = \"11\"\n",
    "    Months[\"Dec\"] = \"12\"\n",
    "\n",
    "    my_cursor = conn.cursor()\n",
    "    my_month = Months[Month]\n",
    "    formula_1 = \"SELECT PlayerName, Avg(Points) as Points, Avg(Rebounds) as Rebounds, Avg(Assists) as Assists, Avg(Steals) as Steals, count(*) as Game_Played FROM Game_Stats WHERE PlayerName = '%s' and CAST(Date AS CHAR) LIKE '____%s__'\"\n",
    "    sqlformula = formula_1 % (PlayerName, my_month)\n",
    "    df = pd.read_sql(sqlformula, conn)\n",
    "    print(df.to_string())\n",
    "    conn.close()\n",
    "\n",
    "def query_stats_by_opponent(PlayerName, Opponent):\n",
    "    conn = pymysql.connect(\n",
    "    port=int(3306),\n",
    "    user=\"root\",\n",
    "    passwd= \"12345678\",\n",
    "    database = \"NBA_DB\")\n",
    "\n",
    "    my_cursor = conn.cursor()\n",
    "    my_month = Months[Month]\n",
    "    formula_1 = \"SELECT PlayerName, OpponentTeam, Avg(Points) as Points, Avg(Rebounds) as Rebounds, Avg(Assists) as Assists, Avg(Steals) as Steals, count(*) as Game_Played FROM Game_Stats WHERE PlayerName = '%s' and OpponentTeam = '%s'\"\n",
    "    sqlformula = formula_1 % (PlayerName, Opponent)\n",
    "    df = pd.read_sql(sqlformula, conn)\n",
    "    print(df.to_string())\n",
    "    conn.close()\n",
    "    \n",
    "def query_all_results_groupby_opponent(PlayerName):\n",
    "    conn = pymysql.connect(\n",
    "    port=int(3306),\n",
    "    user=\"root\",\n",
    "    passwd= \"12345678\",\n",
    "    database = \"NBA_DB\")\n",
    "\n",
    "    my_cursor = conn.cursor()\n",
    "    formula_1 = \"SELECT PlayerName, OpponentTeam, Avg(Points) as Points, Avg(Rebounds) as Rebounds, Avg(Assists) as Assists, Avg(Steals) as Steals, count(*) as Game_Played FROM Game_Stats WHERE PlayerName = '%s' Group By OpponentTeam\"\n",
    "    sqlformula = formula_1 % (PlayerName)\n",
    "    df = pd.read_sql(sqlformula, conn)\n",
    "    print(df.to_string())\n",
    "    conn.close()\n",
    "    "
   ]
  },
  {
   "cell_type": "code",
   "execution_count": 5,
   "metadata": {},
   "outputs": [
    {
     "name": "stdout",
     "output_type": "stream",
     "text": [
      "     PlayerName TeamName  AvgPoints  AvgRebounds  AvgAssists  AvgSteals  AvgRating\n",
      "0  LeBron James      LAL       27.4          8.5         8.3        1.3        4.5\n"
     ]
    }
   ],
   "source": [
    "return_playerBio(\"James Harden\")"
   ]
  },
  {
   "cell_type": "code",
   "execution_count": 4,
   "metadata": {},
   "outputs": [
    {
     "name": "stdout",
     "output_type": "stream",
     "text": [
      "Successfully commented, your commentID is 3.\n"
     ]
    }
   ],
   "source": [
    "user_comments(\"James Harden\", \"Xiao Ming\", 3, \"I hate seeing him scoring 40 while is 2/16\")"
   ]
  },
  {
   "cell_type": "code",
   "execution_count": 105,
   "metadata": {},
   "outputs": [
    {
     "name": "stdout",
     "output_type": "stream",
     "text": [
      "Successfully deleted, the average rating of LeBron James has been adjusted.\n"
     ]
    }
   ],
   "source": [
    "delete_ratings(3)"
   ]
  },
  {
   "cell_type": "code",
   "execution_count": 107,
   "metadata": {},
   "outputs": [
    {
     "name": "stdout",
     "output_type": "stream",
     "text": [
      "     PlayerName  Points  Rebounds  Assists  Steals  Game_Played\n",
      "0  LeBron James  25.625     9.625   10.625   2.125            8\n"
     ]
    }
   ],
   "source": [
    "query_stats_by_month(\"LeBron James\", \"Feb\")"
   ]
  },
  {
   "cell_type": "code",
   "execution_count": 108,
   "metadata": {},
   "outputs": [
    {
     "name": "stdout",
     "output_type": "stream",
     "text": [
      "     PlayerName OpponentTeam   Points  Rebounds  Assists  Steals  Game_Played\n",
      "0  LeBron James          POR  32.6667       9.0   7.3333  0.6667            3\n"
     ]
    }
   ],
   "source": [
    "query_stats_by_opponent(\"LeBron James\", \"POR\")"
   ]
  },
  {
   "cell_type": "code",
   "execution_count": 109,
   "metadata": {},
   "outputs": [
    {
     "name": "stdout",
     "output_type": "stream",
     "text": [
      "    PlayerName OpponentTeam   Points  Rebounds  Assists  Steals  Game_Played\n",
      "0   Trae Young          IND  16.2500    3.0000   7.7500  1.5000            4\n",
      "1   Trae Young          ORL  19.0000    5.2500   6.0000  1.0000            4\n",
      "2   Trae Young          PHI  23.5000    4.7500   9.0000  0.7500            4\n",
      "3   Trae Young          SAS  18.5000    3.5000   5.0000  1.0000            2\n",
      "4   Trae Young          MIL  17.0000    5.6667  10.0000  1.6667            3\n",
      "5   Trae Young          POR  28.0000    5.5000   7.5000  1.0000            2\n",
      "6   Trae Young          NOP  21.5000    3.0000  11.0000  0.5000            2\n",
      "7   Trae Young          UTA  25.5000    2.5000  10.0000  0.5000            2\n",
      "8   Trae Young          HOU  28.5000    2.5000  10.0000  0.5000            2\n",
      "9   Trae Young          BOS  14.0000    2.0000   4.0000  0.7500            4\n",
      "10  Trae Young          MEM  21.0000    2.5000   8.5000  1.0000            2\n",
      "11  Trae Young          BKN  17.6667    4.6667   9.3333  1.3333            3\n",
      "12  Trae Young          MIA  18.5000    4.0000   8.7500  0.7500            4\n",
      "13  Trae Young          CHI  21.2500    5.0000   9.2500  1.0000            4\n",
      "14  Trae Young          MIN  26.0000    6.0000  10.5000  0.5000            2\n",
      "15  Trae Young          PHX  25.0000    4.5000   8.0000  0.5000            2\n",
      "16  Trae Young          DET  19.3333    4.6667   7.0000  0.6667            3\n",
      "17  Trae Young          NYK  15.0000    5.0000   8.5000  0.7500            4\n",
      "18  Trae Young          LAL  21.0000    4.0000  13.0000  1.0000            2\n",
      "19  Trae Young          CHA  18.5000    2.2500   7.5000  1.5000            4\n",
      "20  Trae Young          TOR  14.6667    3.6667   4.6667  1.3333            3\n",
      "21  Trae Young          WAS  12.0000    3.0000   7.0000  0.7500            4\n",
      "22  Trae Young          SAC  18.5000    2.0000   9.0000  0.5000            2\n",
      "23  Trae Young          LAC  25.5000    3.5000  12.5000  0.0000            2\n",
      "24  Trae Young          OKC  16.5000    5.0000   9.5000  0.0000            2\n",
      "25  Trae Young          CLE  26.6667    2.0000   8.0000  0.6667            3\n",
      "26  Trae Young          DAL  20.5000    2.0000   7.5000  1.0000            2\n",
      "27  Trae Young          DEN   7.5000    2.0000   4.5000  0.5000            2\n",
      "28  Trae Young          GSW  12.0000    2.5000   6.0000  1.5000            2\n"
     ]
    }
   ],
   "source": [
    "query_all_results_groupby_opponent(\"Trae Young\")"
   ]
  },
  {
   "cell_type": "code",
   "execution_count": null,
   "metadata": {},
   "outputs": [],
   "source": []
  },
  {
   "cell_type": "code",
   "execution_count": null,
   "metadata": {},
   "outputs": [],
   "source": []
  }
 ],
 "metadata": {
  "kernelspec": {
   "display_name": "Python 3",
   "language": "python",
   "name": "python3"
  },
  "language_info": {
   "codemirror_mode": {
    "name": "ipython",
    "version": 3
   },
   "file_extension": ".py",
   "mimetype": "text/x-python",
   "name": "python",
   "nbconvert_exporter": "python",
   "pygments_lexer": "ipython3",
   "version": "3.6.7"
  }
 },
 "nbformat": 4,
 "nbformat_minor": 2
}
