{
 "cells": [
  {
   "cell_type": "code",
   "execution_count": 1,
   "metadata": {},
   "outputs": [],
   "source": [
    "import numpy as np\n",
    "import pandas as np\n",
    "import pymysql"
   ]
  },
  {
   "cell_type": "code",
   "execution_count": 2,
   "metadata": {},
   "outputs": [],
   "source": [
    "conn = pymysql.connect(\n",
    "    port=int(3306),\n",
    "    user=\"root\",\n",
    "    passwd= \"zzh970507\",\n",
    "    database = \"NBA_DB\"\n",
    ")"
   ]
  },
  {
   "cell_type": "code",
   "execution_count": 3,
   "metadata": {},
   "outputs": [
    {
     "name": "stdout",
     "output_type": "stream",
     "text": [
      "<pymysql.connections.Connection object at 0x118731b00>\n"
     ]
    }
   ],
   "source": [
    "print(conn)"
   ]
  },
  {
   "cell_type": "code",
   "execution_count": 31,
   "metadata": {},
   "outputs": [],
   "source": [
    "#User can insert their comments and ratings into our database, the avgrating in Player_Bio will also update\n",
    "def user_comments(PlayerName, UserName, ratings, Comments):\n",
    "    #insert new entry in User_ratings\n",
    "    conn = pymysql.connect(\n",
    "    port=int(3306),\n",
    "    user=\"root\",\n",
    "    passwd= \"zzh970507\",\n",
    "    database = \"NBA_DB\")\n",
    "    #Get correct ratingID\n",
    "    my_cursor = conn.cursor()\n",
    "    my_cursor.execute(\"SELECT MAX(ratingID) FROM User_ratings\")\n",
    "    my_result = my_cursor.fetchall()\n",
    "    new_ID = int(my_result[0][0]) + 1\n",
    "    \n",
    "    my_cursor = conn.cursor()\n",
    "    sqlFormula = \"INSERT INTO User_ratings (ratings, PlayerName, UserName, UserComments, ratingID) VALUES (%s, %s, %s, %s, %s)\"\n",
    "    records = (ratings, PlayerName, UserName, Comments, new_ID)\n",
    "    my_cursor.execute(sqlFormula, records)\n",
    "    conn.commit()\n",
    "    \n",
    "    #update in Player_Bio\n",
    "    myplayer = PlayerName\n",
    "    formula_1 = \"SELECT Avg(ratings) as AvgRating FROM User_ratings WHERE PlayerName = %s\"\n",
    "    my_cursor.execute(formula_1, myplayer)\n",
    "    my_result = my_cursor.fetchall()\n",
    "    new_avgRatings = float(my_result[0][0])\n",
    "    my_cursor = conn.cursor()\n",
    "    formula_2 = \"UPDATE Player_Bio SET AvgRating = %s WHERE PlayerName = %s\"\n",
    "    my_cursor.execute(formula_2, (new_avgRatings, myplayer))\n",
    "    conn.commit()\n",
    "    print(\"Successfully Commented, your commentID is %d.\" % new_ID)\n",
    "    \n",
    "def return_playerBio(PlayerName):\n",
    "    conn = pymysql.connect(\n",
    "    port=int(3306),\n",
    "    user=\"root\",\n",
    "    passwd= \"zzh970507\",\n",
    "    database = \"NBA_DB\")\n",
    "    my_cursor = conn.cursor()\n",
    "    PlayerName = \"LeBron James\"\n",
    "    myplayer = PlayerName\n",
    "    formula_1 = \"SELECT * FROM Player_Bio WHERE PlayerName = %s\"\n",
    "    my_cursor.execute(formula_1, myplayer)\n",
    "    my_result = my_cursor.fetchall()\n",
    "    for row in my_result:\n",
    "        print(row)\n",
    "        \n",
    "def delete_ratings(deleteID):\n",
    "    conn = pymysql.connect(\n",
    "    port=int(3306),\n",
    "    user=\"root\",\n",
    "    passwd= \"zzh970507\",\n",
    "    database = \"NBA_DB\")\n",
    "    \n",
    "    #get playerName before deleting\n",
    "    my_cursor = conn.cursor()\n",
    "    formula_1 = \"SELECT PlayerName FROM User_ratings WHERE ratingID = %s\"\n",
    "    my_cursor.execute(formula_1, 3)\n",
    "    my_result = my_cursor.fetchall()\n",
    "    Player_name = my_result[0][0]\n",
    "    \n",
    "    #delete record\n",
    "    my_cursor = conn.cursor()\n",
    "    sqlformula = \"DELETE FROM User_ratings WHERE ratingID = %s\"\n",
    "    my_cursor.execute(sqlformula, deleteID)\n",
    "    \n",
    "    #update avgrating of the player in Player_Bio\n",
    "    myplayer = Player_name\n",
    "    formula_1 = \"SELECT Avg(ratings) as AvgRating FROM User_ratings WHERE PlayerName = %s\"\n",
    "    my_cursor.execute(formula_1, myplayer)\n",
    "    my_result = my_cursor.fetchall()\n",
    "    new_avgRatings = float(my_result[0][0])\n",
    "    my_cursor = conn.cursor()\n",
    "    formula_2 = \"UPDATE Player_Bio SET AvgRating = %s WHERE PlayerName = %s\"\n",
    "    my_cursor.execute(formula_2, (new_avgRatings, myplayer))\n",
    "    conn.commit()\n",
    "    print(\"Successfully deleted, %s's avrage rating has been adjusted.\" % myplayer)\n",
    "    \n",
    "    "
   ]
  },
  {
   "cell_type": "code",
   "execution_count": 22,
   "metadata": {},
   "outputs": [],
   "source": [
    "user_comments(\"LeBron James\", \"Dennis Zhao\", 4, \"Lebron is not work hard enough in the beginning of season\")"
   ]
  },
  {
   "cell_type": "code",
   "execution_count": 14,
   "metadata": {},
   "outputs": [
    {
     "name": "stdout",
     "output_type": "stream",
     "text": [
      "('LeBron James', 'LAL', 27.4, 8.5, 8.3, 1.3, 4.5)\n"
     ]
    }
   ],
   "source": [
    "return_playerBio(\"LeBron James\")"
   ]
  },
  {
   "cell_type": "code",
   "execution_count": 25,
   "metadata": {},
   "outputs": [
    {
     "name": "stdout",
     "output_type": "stream",
     "text": [
      "Successfully Commented, your commentID is 3\n"
     ]
    }
   ],
   "source": [
    "user_comments(\"LeBron James\", \"Qingqing Yang\", 4, \"Lebron is ok\")"
   ]
  },
  {
   "cell_type": "code",
   "execution_count": 32,
   "metadata": {},
   "outputs": [
    {
     "name": "stdout",
     "output_type": "stream",
     "text": [
      "Successfully deleted, LeBron James's avrage rating has been adjusted.\n"
     ]
    }
   ],
   "source": [
    "delete_ratings(3)"
   ]
  }
 ],
 "metadata": {
  "kernelspec": {
   "display_name": "Python 3",
   "language": "python",
   "name": "python3"
  },
  "language_info": {
   "codemirror_mode": {
    "name": "ipython",
    "version": 3
   },
   "file_extension": ".py",
   "mimetype": "text/x-python",
   "name": "python",
   "nbconvert_exporter": "python",
   "pygments_lexer": "ipython3",
   "version": "3.6.7"
  }
 },
 "nbformat": 4,
 "nbformat_minor": 2
}
