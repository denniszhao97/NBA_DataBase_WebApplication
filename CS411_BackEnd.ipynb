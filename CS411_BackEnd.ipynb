{
 "cells": [
  {
   "cell_type": "code",
   "execution_count": 65,
   "metadata": {},
   "outputs": [],
   "source": [
    "import numpy as np\n",
    "import pandas as pd\n",
    "import pymysql"
   ]
  },
  {
   "cell_type": "code",
   "execution_count": 66,
   "metadata": {},
   "outputs": [],
   "source": [
    "#User can insert their comments and ratings into our database, the avgrating in Player_Bio will also update\n",
    "def user_comments(PlayerName, UserName, ratings, Comments):\n",
    "    #insert new entry in User_ratings\n",
    "    conn = pymysql.connect(\n",
    "    port=int(3306),\n",
    "    user=\"root\",\n",
    "    passwd= \"zzh970507\",\n",
    "    database = \"NBA_DB\")\n",
    "    #Get correct ratingID\n",
    "    my_cursor = conn.cursor()\n",
    "    my_cursor.execute(\"SELECT MAX(ratingID) FROM User_ratings\")\n",
    "    my_result = my_cursor.fetchall()\n",
    "    new_ID = int(my_result[0][0]) + 1\n",
    "    \n",
    "    my_cursor = conn.cursor()\n",
    "    sqlFormula = \"INSERT INTO User_ratings (ratings, PlayerName, UserName, UserComments, ratingID) VALUES (%s, %s, %s, %s, %s)\"\n",
    "    records = (ratings, PlayerName, UserName, Comments, new_ID)\n",
    "    my_cursor.execute(sqlFormula, records)\n",
    "    conn.commit()\n",
    "    \n",
    "    #update in Player_Bio\n",
    "    myplayer = PlayerName\n",
    "    formula_1 = \"SELECT Avg(ratings) as AvgRating FROM User_ratings WHERE PlayerName = %s\"\n",
    "    my_cursor.execute(formula_1, myplayer)\n",
    "    my_result = my_cursor.fetchall()\n",
    "    new_avgRatings = float(my_result[0][0])\n",
    "    my_cursor = conn.cursor()\n",
    "    formula_2 = \"UPDATE Player_Bio SET AvgRating = %s WHERE PlayerName = %s\"\n",
    "    my_cursor.execute(formula_2, (new_avgRatings, myplayer))\n",
    "    conn.commit()\n",
    "    conn.close()\n",
    "    print(\"Successfully commented, your commentID is %d.\" % new_ID)\n",
    "\n",
    "#query Player_Bio table by PlayerName\n",
    "def return_playerBio(PlayerName):\n",
    "    conn = pymysql.connect(\n",
    "    port=int(3306),\n",
    "    user=\"root\",\n",
    "    passwd= \"zzh970507\",\n",
    "    database = \"NBA_DB\")\n",
    "    my_cursor = conn.cursor()\n",
    "    PlayerName = \"LeBron James\"\n",
    "    formula_1 = \"SELECT * FROM Player_Bio WHERE PlayerName = '%s'\"\n",
    "    sqlformula = formula_1 % PlayerName\n",
    "    df = pd.read_sql(sqlformula, conn)\n",
    "    print(df.to_string())\n",
    "    conn.close()\n",
    "\n",
    "#delete user rating and comments, then update average rating\n",
    "def delete_ratings(deleteID):\n",
    "    conn = pymysql.connect(\n",
    "    port=int(3306),\n",
    "    user=\"root\",\n",
    "    passwd= \"zzh970507\",\n",
    "    database = \"NBA_DB\")\n",
    "    \n",
    "    #get playerName before deleting\n",
    "    my_cursor = conn.cursor()\n",
    "    formula_1 = \"SELECT PlayerName FROM User_ratings WHERE ratingID = %s\"\n",
    "    my_cursor.execute(formula_1, deleteID)\n",
    "    my_result = my_cursor.fetchall()\n",
    "    Player_name = my_result[0][0]\n",
    "    \n",
    "    #delete record\n",
    "    my_cursor = conn.cursor()\n",
    "    sqlformula = \"DELETE FROM User_ratings WHERE ratingID = %s\"\n",
    "    my_cursor.execute(sqlformula, deleteID)\n",
    "    \n",
    "    #update avgrating of the player in Player_Bio\n",
    "    myplayer = Player_name\n",
    "    formula_1 = \"SELECT Avg(ratings) as AvgRating FROM User_ratings WHERE PlayerName = %s\"\n",
    "    my_cursor.execute(formula_1, myplayer)\n",
    "    my_result = my_cursor.fetchall()\n",
    "    new_avgRatings = float(my_result[0][0])\n",
    "    my_cursor = conn.cursor()\n",
    "    formula_2 = \"UPDATE Player_Bio SET AvgRating = %s WHERE PlayerName = %s\"\n",
    "    my_cursor.execute(formula_2, (new_avgRatings, myplayer))\n",
    "    conn.commit()\n",
    "    print(\"Successfully deleted, the average rating of %s has been adjusted.\" % myplayer)\n",
    "    conn.close()\n",
    "    \n",
    "    "
   ]
  },
  {
   "cell_type": "code",
   "execution_count": 84,
   "metadata": {},
   "outputs": [],
   "source": [
    "# query player stats by playerName and Month\n",
    "def query_stats_by_month(PlayerName, Month):\n",
    "    conn = pymysql.connect(\n",
    "    port=int(3306),\n",
    "    user=\"root\",\n",
    "    passwd= \"zzh970507\",\n",
    "    database = \"NBA_DB\")\n",
    "    \n",
    "    Months = {}\n",
    "    Months[\"Jan\"] = \"01\"\n",
    "    Months[\"Feb\"] = \"02\"\n",
    "    Months[\"Mar\"] = \"03\"\n",
    "    Months[\"Apr\"] = \"04\"\n",
    "    Months[\"May\"] = \"05\"\n",
    "    Months[\"Jun\"] = \"06\"\n",
    "    Months[\"Jul\"] = \"07\"\n",
    "    Months[\"Aug\"] = \"08\"\n",
    "    Months[\"Sep\"] = \"09\"\n",
    "    Months[\"Oct\"] = \"10\"\n",
    "    Months[\"Nov\"] = \"11\"\n",
    "    Months[\"Dec\"] = \"12\"\n",
    "\n",
    "    my_cursor = conn.cursor()\n",
    "    my_month = Months[Month]\n",
    "    formula_1 = \"SELECT PlayerName, Avg(Points) as Points, Avg(Rebounds) as Rebounds, Avg(Assists) as Assists, Avg(Steals) as Steals, count(*) as Game_Played FROM Game_Stats WHERE PlayerName = '%s' and CAST(Date AS CHAR) LIKE '____%s__'\"\n",
    "    sqlformula = formula_1 % (PlayerName, my_month)\n",
    "    df = pd.read_sql(sqlformula, conn)\n",
    "    print(df.to_string())\n",
    "    conn.close()\n",
    "\n",
    "def query_stats_by_opponent(PlayerName, Opponent):\n",
    "    conn = pymysql.connect(\n",
    "    port=int(3306),\n",
    "    user=\"root\",\n",
    "    passwd= \"zzh970507\",\n",
    "    database = \"NBA_DB\")\n",
    "\n",
    "    my_cursor = conn.cursor()\n",
    "    my_month = Months[Month]\n",
    "    formula_1 = \"SELECT PlayerName, OpponentTeam, Avg(Points) as Points, Avg(Rebounds) as Rebounds, Avg(Assists) as Assists, Avg(Steals) as Steals, count(*) as Game_Played FROM Game_Stats WHERE PlayerName = '%s' and OpponentTeam = '%s'\"\n",
    "    sqlformula = formula_1 % (PlayerName, Opponent)\n",
    "    df = pd.read_sql(sqlformula, conn)\n",
    "    print(df.to_string())\n",
    "    conn.close()\n",
    "    \n",
    "def query_all_results_groupby_opponent(PlayerName):\n",
    "    conn = pymysql.connect(\n",
    "    port=int(3306),\n",
    "    user=\"root\",\n",
    "    passwd= \"zzh970507\",\n",
    "    database = \"NBA_DB\")\n",
    "\n",
    "    my_cursor = conn.cursor()\n",
    "    formula_1 = \"SELECT PlayerName, OpponentTeam, Avg(Points) as Points, Avg(Rebounds) as Rebounds, Avg(Assists) as Assists, Avg(Steals) as Steals, count(*) as Game_Played FROM Game_Stats WHERE PlayerName = '%s' Group By OpponentTeam\"\n",
    "    sqlformula = formula_1 % (PlayerName)\n",
    "    df = pd.read_sql(sqlformula, conn)\n",
    "    print(df.to_string())\n",
    "    conn.close()\n",
    "    "
   ]
  },
  {
   "cell_type": "code",
   "execution_count": 59,
   "metadata": {},
   "outputs": [
    {
     "name": "stdout",
     "output_type": "stream",
     "text": [
      "     PlayerName TeamName  AvgPoints  AvgRebounds  AvgAssists  AvgSteals  AvgRating\n",
      "0  LeBron James      LAL       27.4          8.5         8.3        1.3        4.5\n"
     ]
    }
   ],
   "source": [
    "return_playerBio(\"LeBron James\")"
   ]
  },
  {
   "cell_type": "code",
   "execution_count": 10,
   "metadata": {},
   "outputs": [
    {
     "name": "stdout",
     "output_type": "stream",
     "text": [
      "Successfully Commented, your commentID is 3.\n"
     ]
    }
   ],
   "source": [
    "user_comments(\"LeBron James\", \"Xiao Ming\", 5, \"I dont watch NBA but I know LeBron\")"
   ]
  },
  {
   "cell_type": "code",
   "execution_count": 11,
   "metadata": {},
   "outputs": [
    {
     "name": "stdout",
     "output_type": "stream",
     "text": [
      "Successfully deleted, the average rating of LeBron James has been adjusted.\n"
     ]
    }
   ],
   "source": [
    "delete_ratings(3)"
   ]
  },
  {
   "cell_type": "code",
   "execution_count": 85,
   "metadata": {},
   "outputs": [
    {
     "name": "stdout",
     "output_type": "stream",
     "text": [
      "     PlayerName  Points  Rebounds  Assists  Steals  Game_Played\n",
      "0  LeBron James  25.625     9.625   10.625   2.125            8\n"
     ]
    }
   ],
   "source": [
    "query_stats_by_month(\"LeBron James\", \"Feb\")"
   ]
  },
  {
   "cell_type": "code",
   "execution_count": 86,
   "metadata": {},
   "outputs": [
    {
     "name": "stdout",
     "output_type": "stream",
     "text": [
      "     PlayerName OpponentTeam   Points  Rebounds  Assists  Steals  Game_Played\n",
      "0  LeBron James          POR  32.6667       9.0   7.3333  0.6667            3\n"
     ]
    }
   ],
   "source": [
    "query_stats_by_opponent(\"LeBron James\", \"POR\")"
   ]
  },
  {
   "cell_type": "code",
   "execution_count": 87,
   "metadata": {},
   "outputs": [
    {
     "name": "stdout",
     "output_type": "stream",
     "text": [
      "      PlayerName OpponentTeam   Points  Rebounds  Assists  Steals  Game_Played\n",
      "0   James Harden          OKC  35.2500    6.5000   4.0000  1.5000            4\n",
      "1   James Harden          PHX  38.3333   10.0000   8.6667  3.6667            3\n",
      "2   James Harden          NYK  43.5000   12.0000   6.0000  3.0000            2\n",
      "3   James Harden          LAC  31.0000    5.5000  10.5000  1.0000            2\n",
      "4   James Harden          SAC  39.0000    6.0000   7.2500  1.5000            4\n",
      "5   James Harden          DEN  30.5000    5.5000  10.0000  1.7500            4\n",
      "6   James Harden          MIL  32.5000   10.5000   6.5000  1.0000            2\n",
      "7   James Harden          NOP  31.0000    8.0000   6.5000  2.7500            4\n",
      "8   James Harden          SAS  37.0000    6.0000   6.0000  1.7500            4\n",
      "9   James Harden          MEM  47.2500    9.5000   8.2500  2.0000            4\n",
      "10  James Harden          ATL  29.5000    6.5000   7.0000  1.0000            2\n",
      "11  James Harden          MIN  30.3333    3.6667   8.0000  1.0000            3\n",
      "12  James Harden          GSW  33.3333    5.3333   9.3333  2.0000            3\n",
      "13  James Harden          CHA  29.0000    4.5000   8.5000  2.5000            2\n",
      "14  James Harden          DAL  27.7500    7.0000   9.0000  3.0000            4\n",
      "15  James Harden          PHI  34.0000    8.0000   5.0000  1.5000            2\n",
      "16  James Harden          TOR  35.0000    1.5000   5.0000  1.5000            2\n",
      "17  James Harden          BOS  43.5000    4.5000   5.0000  1.0000            2\n",
      "18  James Harden          MIA  46.5000    6.5000  11.0000  3.0000            2\n",
      "19  James Harden          LAL  41.0000    7.7500   7.0000  2.2500            4\n",
      "20  James Harden          UTA  33.5000    7.2500   4.7500  3.0000            4\n",
      "21  James Harden          ORL  39.0000   10.0000   9.0000  2.5000            2\n",
      "22  James Harden          BKN  58.0000   10.0000   6.0000  1.0000            1\n",
      "23  James Harden          CLE  41.5000    7.0000  12.5000  1.5000            2\n",
      "24  James Harden          POR  33.5000    3.0000   5.5000  1.0000            2\n",
      "25  James Harden          WAS  44.5000    5.5000  11.0000  2.5000            2\n",
      "26  James Harden          CHI  27.5000    3.5000   7.0000  2.5000            2\n",
      "27  James Harden          DET  38.0000    4.5000   8.5000  2.0000            2\n",
      "28  James Harden          IND  34.0000    5.5000   7.5000  2.0000            2\n"
     ]
    }
   ],
   "source": [
    "query_all_results_groupby_opponent(\"James Harden\")"
   ]
  },
  {
   "cell_type": "code",
   "execution_count": null,
   "metadata": {},
   "outputs": [],
   "source": []
  },
  {
   "cell_type": "code",
   "execution_count": null,
   "metadata": {},
   "outputs": [],
   "source": []
  }
 ],
 "metadata": {
  "kernelspec": {
   "display_name": "Python 3",
   "language": "python",
   "name": "python3"
  },
  "language_info": {
   "codemirror_mode": {
    "name": "ipython",
    "version": 3
   },
   "file_extension": ".py",
   "mimetype": "text/x-python",
   "name": "python",
   "nbconvert_exporter": "python",
   "pygments_lexer": "ipython3",
   "version": "3.6.7"
  }
 },
 "nbformat": 4,
 "nbformat_minor": 2
}
